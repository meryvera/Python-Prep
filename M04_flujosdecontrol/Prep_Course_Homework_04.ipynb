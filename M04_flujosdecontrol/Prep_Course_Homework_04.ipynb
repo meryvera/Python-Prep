{
 "cells": [
  {
   "attachments": {},
   "cell_type": "markdown",
   "metadata": {},
   "source": [
    "## Flujos de Control"
   ]
  },
  {
   "attachments": {},
   "cell_type": "markdown",
   "metadata": {},
   "source": [
    "1) Crear una variable que contenga un elemento del conjunto de números enteros y luego imprimir por pantalla si es mayor o menor a cero"
   ]
  },
  {
   "cell_type": "code",
   "execution_count": 1,
   "metadata": {},
   "outputs": [
    {
     "data": {
      "text/plain": [
       "'menor a cero'"
      ]
     },
     "execution_count": 1,
     "metadata": {},
     "output_type": "execute_result"
    }
   ],
   "source": [
    "n = -5\n",
    "'meyor a cero' if n > 0 else 'menor a cero'                                                                                       "
   ]
  },
  {
   "attachments": {},
   "cell_type": "markdown",
   "metadata": {},
   "source": [
    "2) Crear dos variables y un condicional que informe si son del mismo tipo de dato"
   ]
  },
  {
   "cell_type": "code",
   "execution_count": 2,
   "metadata": {},
   "outputs": [
    {
     "data": {
      "text/plain": [
       "'NO son el mismo dato'"
      ]
     },
     "execution_count": 2,
     "metadata": {},
     "output_type": "execute_result"
    }
   ],
   "source": [
    "x=20\n",
    "y='veinte'\n",
    "'son el mismo dato' if x==y else 'NO son el mismo dato'"
   ]
  },
  {
   "attachments": {},
   "cell_type": "markdown",
   "metadata": {},
   "source": [
    "3) Para los valores enteros del 1 al 20, imprimir por pantalla si es par o impar"
   ]
  },
  {
   "cell_type": "code",
   "execution_count": 3,
   "metadata": {},
   "outputs": [
    {
     "name": "stdout",
     "output_type": "stream",
     "text": [
      "$1 es impar\n",
      "$2 es par\n",
      "$3 es impar\n",
      "$4 es par\n",
      "$5 es impar\n",
      "$6 es par\n",
      "$7 es impar\n",
      "$8 es par\n",
      "$9 es impar\n",
      "$10 es par\n",
      "$11 es impar\n",
      "$12 es par\n",
      "$13 es impar\n",
      "$14 es par\n",
      "$15 es impar\n",
      "$16 es par\n",
      "$17 es impar\n",
      "$18 es par\n",
      "$19 es impar\n",
      "$20 es par\n"
     ]
    }
   ],
   "source": [
    "for i in range(1,21):\n",
    "    print(f'${i} es par' if i%2==0 else f'${i} es impar')"
   ]
  },
  {
   "attachments": {},
   "cell_type": "markdown",
   "metadata": {},
   "source": [
    "4) En un ciclo for mostrar para los valores entre 0 y 5 el resultado de elevarlo a la potencia igual a 3"
   ]
  },
  {
   "cell_type": "code",
   "execution_count": 4,
   "metadata": {},
   "outputs": [
    {
     "name": "stdout",
     "output_type": "stream",
     "text": [
      "$0\n",
      "$1\n",
      "$8\n",
      "$27\n",
      "$64\n",
      "$125\n"
     ]
    }
   ],
   "source": [
    "for i in range(0,6):\n",
    "  print (f'${i**3}')"
   ]
  },
  {
   "attachments": {},
   "cell_type": "markdown",
   "metadata": {},
   "source": [
    "5) Crear una variable que contenga un número entero y realizar un ciclo for la misma cantidad de ciclos"
   ]
  },
  {
   "cell_type": "code",
   "execution_count": 6,
   "metadata": {},
   "outputs": [
    {
     "name": "stdout",
     "output_type": "stream",
     "text": [
      "1\n",
      "2\n",
      "3\n"
     ]
    }
   ],
   "source": [
    "n_2 = 3\n",
    "for i in range(1, n+1):\n",
    "  print(i)"
   ]
  },
  {
   "cell_type": "code",
   "execution_count": 8,
   "metadata": {},
   "outputs": [
    {
     "name": "stdout",
     "output_type": "stream",
     "text": [
      "12\n"
     ]
    }
   ],
   "source": [
    "n = 12\n",
    "for i in range(0, n+1):\n",
    "  pass\n",
    "print(i)"
   ]
  },
  {
   "attachments": {},
   "cell_type": "markdown",
   "metadata": {},
   "source": [
    "6) Utilizar un ciclo while para realizar el factorial de un número guardado en una variable, sólo si la variable contiene un número entero mayor a 0"
   ]
  },
  {
   "cell_type": "code",
   "execution_count": 16,
   "metadata": {},
   "outputs": [
    {
     "name": "stdout",
     "output_type": "stream",
     "text": [
      "El factorial de 5 es 120\n"
     ]
    }
   ],
   "source": [
    "n_6 = 5\n",
    "while True:\n",
    "  if n_6.is_integer() and n_6 > 0:\n",
    "    resultado = 1\n",
    "    for i in range(1, n_6+1):\n",
    "      resultado *= i\n",
    "    print(f'El factorial de {n_6} es {resultado}');\n",
    "    #break;\n",
    "  else:\n",
    "    print('Ingrese un número entero entero mayor a 0');\n",
    "  break;"
   ]
  },
  {
   "attachments": {},
   "cell_type": "markdown",
   "metadata": {},
   "source": [
    "7) Crear un ciclo for dentro de un ciclo while"
   ]
  },
  {
   "cell_type": "code",
   "execution_count": null,
   "metadata": {},
   "outputs": [],
   "source": [
    "#pendiente"
   ]
  },
  {
   "attachments": {},
   "cell_type": "markdown",
   "metadata": {},
   "source": [
    "8) Crear un ciclo while dentro de un ciclo for"
   ]
  },
  {
   "cell_type": "code",
   "execution_count": null,
   "metadata": {},
   "outputs": [],
   "source": [
    "#pendiente"
   ]
  },
  {
   "attachments": {},
   "cell_type": "markdown",
   "metadata": {},
   "source": [
    "9) Imprimir los números primos existentes entre 0 y 30"
   ]
  },
  {
   "cell_type": "code",
   "execution_count": null,
   "metadata": {},
   "outputs": [],
   "source": [
    "#pendiente\n",
    "for i in range(0,31):\n",
    "  print"
   ]
  },
  {
   "attachments": {},
   "cell_type": "markdown",
   "metadata": {},
   "source": [
    "10) ¿Se puede mejorar el proceso del punto 9? Utilizar las sentencias break y/ó continue para tal fin"
   ]
  },
  {
   "cell_type": "code",
   "execution_count": null,
   "metadata": {},
   "outputs": [],
   "source": [
    "#pendiente"
   ]
  },
  {
   "attachments": {},
   "cell_type": "markdown",
   "metadata": {},
   "source": [
    "11) En los puntos 9 y 10, se diseño un código que encuentra números primos y además se lo optimizó. ¿Es posible saber en qué medida se optimizó?"
   ]
  },
  {
   "cell_type": "code",
   "execution_count": null,
   "metadata": {},
   "outputs": [],
   "source": []
  },
  {
   "attachments": {},
   "cell_type": "markdown",
   "metadata": {},
   "source": [
    "12) Aplicando continue, armar un ciclo while que solo imprima los valores divisibles por 12, dentro del rango de números de 100 a 300"
   ]
  },
  {
   "cell_type": "code",
   "execution_count": 17,
   "metadata": {},
   "outputs": [
    {
     "name": "stdout",
     "output_type": "stream",
     "text": [
      "$100 no es divisible / 12\n",
      "$101 no es divisible / 12\n",
      "$102 no es divisible / 12\n",
      "$103 no es divisible / 12\n",
      "$104 no es divisible / 12\n",
      "$105 no es divisible / 12\n",
      "$106 no es divisible / 12\n",
      "$107 no es divisible / 12\n",
      "$108 divisible / 12\n",
      "$109 no es divisible / 12\n",
      "$110 no es divisible / 12\n",
      "$111 no es divisible / 12\n",
      "$112 no es divisible / 12\n",
      "$113 no es divisible / 12\n",
      "$114 no es divisible / 12\n",
      "$115 no es divisible / 12\n",
      "$116 no es divisible / 12\n",
      "$117 no es divisible / 12\n",
      "$118 no es divisible / 12\n",
      "$119 no es divisible / 12\n",
      "$120 divisible / 12\n",
      "$121 no es divisible / 12\n",
      "$122 no es divisible / 12\n",
      "$123 no es divisible / 12\n",
      "$124 no es divisible / 12\n",
      "$125 no es divisible / 12\n",
      "$126 no es divisible / 12\n",
      "$127 no es divisible / 12\n",
      "$128 no es divisible / 12\n",
      "$129 no es divisible / 12\n",
      "$130 no es divisible / 12\n",
      "$131 no es divisible / 12\n",
      "$132 divisible / 12\n",
      "$133 no es divisible / 12\n",
      "$134 no es divisible / 12\n",
      "$135 no es divisible / 12\n",
      "$136 no es divisible / 12\n",
      "$137 no es divisible / 12\n",
      "$138 no es divisible / 12\n",
      "$139 no es divisible / 12\n",
      "$140 no es divisible / 12\n",
      "$141 no es divisible / 12\n",
      "$142 no es divisible / 12\n",
      "$143 no es divisible / 12\n",
      "$144 divisible / 12\n",
      "$145 no es divisible / 12\n",
      "$146 no es divisible / 12\n",
      "$147 no es divisible / 12\n",
      "$148 no es divisible / 12\n",
      "$149 no es divisible / 12\n",
      "$150 no es divisible / 12\n",
      "$151 no es divisible / 12\n",
      "$152 no es divisible / 12\n",
      "$153 no es divisible / 12\n",
      "$154 no es divisible / 12\n",
      "$155 no es divisible / 12\n",
      "$156 divisible / 12\n",
      "$157 no es divisible / 12\n",
      "$158 no es divisible / 12\n",
      "$159 no es divisible / 12\n",
      "$160 no es divisible / 12\n",
      "$161 no es divisible / 12\n",
      "$162 no es divisible / 12\n",
      "$163 no es divisible / 12\n",
      "$164 no es divisible / 12\n",
      "$165 no es divisible / 12\n",
      "$166 no es divisible / 12\n",
      "$167 no es divisible / 12\n",
      "$168 divisible / 12\n",
      "$169 no es divisible / 12\n",
      "$170 no es divisible / 12\n",
      "$171 no es divisible / 12\n",
      "$172 no es divisible / 12\n",
      "$173 no es divisible / 12\n",
      "$174 no es divisible / 12\n",
      "$175 no es divisible / 12\n",
      "$176 no es divisible / 12\n",
      "$177 no es divisible / 12\n",
      "$178 no es divisible / 12\n",
      "$179 no es divisible / 12\n",
      "$180 divisible / 12\n",
      "$181 no es divisible / 12\n",
      "$182 no es divisible / 12\n",
      "$183 no es divisible / 12\n",
      "$184 no es divisible / 12\n",
      "$185 no es divisible / 12\n",
      "$186 no es divisible / 12\n",
      "$187 no es divisible / 12\n",
      "$188 no es divisible / 12\n",
      "$189 no es divisible / 12\n",
      "$190 no es divisible / 12\n",
      "$191 no es divisible / 12\n",
      "$192 divisible / 12\n",
      "$193 no es divisible / 12\n",
      "$194 no es divisible / 12\n",
      "$195 no es divisible / 12\n",
      "$196 no es divisible / 12\n",
      "$197 no es divisible / 12\n",
      "$198 no es divisible / 12\n",
      "$199 no es divisible / 12\n",
      "$200 no es divisible / 12\n",
      "$201 no es divisible / 12\n",
      "$202 no es divisible / 12\n",
      "$203 no es divisible / 12\n",
      "$204 divisible / 12\n",
      "$205 no es divisible / 12\n",
      "$206 no es divisible / 12\n",
      "$207 no es divisible / 12\n",
      "$208 no es divisible / 12\n",
      "$209 no es divisible / 12\n",
      "$210 no es divisible / 12\n",
      "$211 no es divisible / 12\n",
      "$212 no es divisible / 12\n",
      "$213 no es divisible / 12\n",
      "$214 no es divisible / 12\n",
      "$215 no es divisible / 12\n",
      "$216 divisible / 12\n",
      "$217 no es divisible / 12\n",
      "$218 no es divisible / 12\n",
      "$219 no es divisible / 12\n",
      "$220 no es divisible / 12\n",
      "$221 no es divisible / 12\n",
      "$222 no es divisible / 12\n",
      "$223 no es divisible / 12\n",
      "$224 no es divisible / 12\n",
      "$225 no es divisible / 12\n",
      "$226 no es divisible / 12\n",
      "$227 no es divisible / 12\n",
      "$228 divisible / 12\n",
      "$229 no es divisible / 12\n",
      "$230 no es divisible / 12\n",
      "$231 no es divisible / 12\n",
      "$232 no es divisible / 12\n",
      "$233 no es divisible / 12\n",
      "$234 no es divisible / 12\n",
      "$235 no es divisible / 12\n",
      "$236 no es divisible / 12\n",
      "$237 no es divisible / 12\n",
      "$238 no es divisible / 12\n",
      "$239 no es divisible / 12\n",
      "$240 divisible / 12\n",
      "$241 no es divisible / 12\n",
      "$242 no es divisible / 12\n",
      "$243 no es divisible / 12\n",
      "$244 no es divisible / 12\n",
      "$245 no es divisible / 12\n",
      "$246 no es divisible / 12\n",
      "$247 no es divisible / 12\n",
      "$248 no es divisible / 12\n",
      "$249 no es divisible / 12\n",
      "$250 no es divisible / 12\n",
      "$251 no es divisible / 12\n",
      "$252 divisible / 12\n",
      "$253 no es divisible / 12\n",
      "$254 no es divisible / 12\n",
      "$255 no es divisible / 12\n",
      "$256 no es divisible / 12\n",
      "$257 no es divisible / 12\n",
      "$258 no es divisible / 12\n",
      "$259 no es divisible / 12\n",
      "$260 no es divisible / 12\n",
      "$261 no es divisible / 12\n",
      "$262 no es divisible / 12\n",
      "$263 no es divisible / 12\n",
      "$264 divisible / 12\n",
      "$265 no es divisible / 12\n",
      "$266 no es divisible / 12\n",
      "$267 no es divisible / 12\n",
      "$268 no es divisible / 12\n",
      "$269 no es divisible / 12\n",
      "$270 no es divisible / 12\n",
      "$271 no es divisible / 12\n",
      "$272 no es divisible / 12\n",
      "$273 no es divisible / 12\n",
      "$274 no es divisible / 12\n",
      "$275 no es divisible / 12\n",
      "$276 divisible / 12\n",
      "$277 no es divisible / 12\n",
      "$278 no es divisible / 12\n",
      "$279 no es divisible / 12\n",
      "$280 no es divisible / 12\n",
      "$281 no es divisible / 12\n",
      "$282 no es divisible / 12\n",
      "$283 no es divisible / 12\n",
      "$284 no es divisible / 12\n",
      "$285 no es divisible / 12\n",
      "$286 no es divisible / 12\n",
      "$287 no es divisible / 12\n",
      "$288 divisible / 12\n",
      "$289 no es divisible / 12\n",
      "$290 no es divisible / 12\n",
      "$291 no es divisible / 12\n",
      "$292 no es divisible / 12\n",
      "$293 no es divisible / 12\n",
      "$294 no es divisible / 12\n",
      "$295 no es divisible / 12\n",
      "$296 no es divisible / 12\n",
      "$297 no es divisible / 12\n",
      "$298 no es divisible / 12\n",
      "$299 no es divisible / 12\n",
      "$300 divisible / 12\n"
     ]
    }
   ],
   "source": [
    "for i in range(100,301):\n",
    "  print(f'${i} divisible / 12' if i%12==0 else f'${i} no es divisible / 12')"
   ]
  },
  {
   "attachments": {},
   "cell_type": "markdown",
   "metadata": {},
   "source": [
    "13) Utilizar la función **input()** que permite hacer ingresos por teclado, para encontrar números primos y dar la opción al usario de buscar el siguiente"
   ]
  },
  {
   "cell_type": "code",
   "execution_count": null,
   "metadata": {},
   "outputs": [],
   "source": []
  },
  {
   "attachments": {},
   "cell_type": "markdown",
   "metadata": {},
   "source": [
    "14) Crear un ciclo while que encuentre dentro del rango de 100 a 300 el primer número divisible por 3 y además múltiplo de 6"
   ]
  },
  {
   "cell_type": "code",
   "execution_count": null,
   "metadata": {},
   "outputs": [],
   "source": []
  }
 ],
 "metadata": {
  "interpreter": {
   "hash": "c85384e4cb51c8b72350f3a8712cc8351fdc3955e32a27f9b60c6242ab125f01"
  },
  "kernelspec": {
   "display_name": "Python 3 (ipykernel)",
   "language": "python",
   "name": "python3"
  },
  "language_info": {
   "codemirror_mode": {
    "name": "ipython",
    "version": 3
   },
   "file_extension": ".py",
   "mimetype": "text/x-python",
   "name": "python",
   "nbconvert_exporter": "python",
   "pygments_lexer": "ipython3",
   "version": "3.12.2"
  }
 },
 "nbformat": 4,
 "nbformat_minor": 4
}
